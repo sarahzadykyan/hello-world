{
 "cells": [
  {
   "cell_type": "markdown",
   "metadata": {},
   "source": [
    "1) datatype: *set*\n",
    "\n",
    "**len(x)** - this function is used to determine the length of the set\n",
    "\n",
    "**x.pop()** - this method removes the 1st elements of the set, but as long as in a set the order of elements is not fixed you never know which element will be removed\n",
    "\n",
    "**x.add('r')** - this method adds a new element to the set\n",
    "\n",
    "**x.remove(4.7)** - this method removes the element you chose from the set, if there is no such element you'll see KeyError on the screen\n",
    "\n",
    "**x.clear()** - this method removes all the elements from te set\n",
    "\n",
    "**set.union(x,y,z)** - this method unifies two or more sets. If an item is present in more than one set, the result will contain only one appearance of this item\n",
    "\n",
    "2)the following numeric comparisons mean the following when they are applied to strings:\n",
    "\n",
    "**==** checking if 2 strings are equal, every character is important \n",
    "\n",
    "*>>>'orno'=='orna'*\n",
    "\n",
    "*False*\n",
    "\n",
    "*>>>'g'+g'=='gg'*\n",
    "\n",
    "*True*\n",
    "\n",
    "**!=** checking if 2 strings are really not equal\n",
    "\n",
    "*>>>'g'+'g'!='2g'*\n",
    "\n",
    "*True*\n",
    "\n",
    "\n",
    "**>** checking if the 1st string alphabetically stands after the 2nd (comes after it in the dictionary)\n",
    "(by the way, capital letters alphabetically stand before small letters)\n",
    "\n",
    "**>=** checking if the 1st srting alphabetically stands either after the 2nd or at the same place\n",
    "\n",
    "**<**  checking if the 1st srting alphabetically stands somewhere before the 2nd (comes before it in the dictionary)\n",
    "\n",
    "**<=** checking if the 1st srting alphabetically stands either somewhere before the 2nd or at the same place\n",
    "\n"
   ]
  },
  {
   "cell_type": "markdown",
   "metadata": {},
   "source": [
    "3) Unfortunatelly it is the very 2nd week I study linguistics, I have no linguistic background at all and it is indeed very hard to understand the task, but I'll try to do my best\n",
    ".\n",
    "by the way, it is the very first time I try to write in *'glossing'*, I am not even sure if it is 'glossing', the only teacher I had so far is the internet and wikipedia.\n",
    "But the idea I have here is rather simple.\n",
    "The results I have are the followings: "
   ]
  },
  {
   "cell_type": "code",
   "execution_count": 94,
   "metadata": {},
   "outputs": [],
   "source": [
    "write='{0}k{1}t{2}b{3}'"
   ]
  },
  {
   "cell_type": "code",
   "execution_count": 105,
   "metadata": {},
   "outputs": [],
   "source": [
    "write_AOR_3Sg_M=write.format('','a','a','-a')"
   ]
  },
  {
   "cell_type": "code",
   "execution_count": 106,
   "metadata": {},
   "outputs": [
    {
     "data": {
      "text/plain": [
       "'katab-a'"
      ]
     },
     "execution_count": 106,
     "metadata": {},
     "output_type": "execute_result"
    }
   ],
   "source": [
    "write_AOR_3Sg_M"
   ]
  },
  {
   "cell_type": "code",
   "execution_count": 109,
   "metadata": {},
   "outputs": [],
   "source": [
    "write_LAT_AOR_3Sg_M=write.format('','aa','a','-a')"
   ]
  },
  {
   "cell_type": "code",
   "execution_count": 110,
   "metadata": {},
   "outputs": [
    {
     "data": {
      "text/plain": [
       "'kaatab-a'"
      ]
     },
     "execution_count": 110,
     "metadata": {},
     "output_type": "execute_result"
    }
   ],
   "source": [
    "write_LAT_AOR_3Sg_M"
   ]
  },
  {
   "cell_type": "code",
   "execution_count": 111,
   "metadata": {},
   "outputs": [],
   "source": [
    "write_PASS_AOR_3Sg=write.format('','u','i','-a')"
   ]
  },
  {
   "cell_type": "code",
   "execution_count": 113,
   "metadata": {},
   "outputs": [
    {
     "data": {
      "text/plain": [
       "'kutib-a'"
      ]
     },
     "execution_count": 113,
     "metadata": {},
     "output_type": "execute_result"
    }
   ],
   "source": [
    "write_PASS_AOR_3Sg #and so on and so forth"
   ]
  },
  {
   "cell_type": "markdown",
   "metadata": {},
   "source": [
    "4) if we apply lower() to the srting x, all the letters in that string will become small letters\n",
    "\n",
    "a)useful: when the presence of capital letters in the srting means nothing for your research, so if all the letters are written in the same format it would be easier to operate with the data\n",
    "\n",
    "b)harmful: when it means a lot, for instance, if you are going to split the long string into many short 'one word' strings and then compare the frequency of the use of such a graffic stylistic device as SOMETHING WRITTEN IN CAPITAL LETTERS in different texts/types of texts written by people of different background in a variaty of settings (messages to friends, collegues, employees, employers) etc.(sociolinguistic research, probably) "
   ]
  },
  {
   "cell_type": "markdown",
   "metadata": {},
   "source": [
    "5) **Funky dictionary**"
   ]
  },
  {
   "cell_type": "code",
   "execution_count": 126,
   "metadata": {},
   "outputs": [],
   "source": [
    "camp_leaders_dictionary={'отбить':'make all the children you are responsible of sleep: я пойду отбивать детей, а ты на планерку; ура, мы всех своих отбили','слить':'to perform not successfully: это мероприятие мой отряд вообще слили','писикаки':'mischievious naughty childern','не але':'children with very strange behaviour who usually have no friends','рука':'a word reminding everyone of the sign to stop talking','косяк':'a huge mistake made by someone, among camp leaders it is usually used to evaluate mistakes made by some of them: ну это правда косяк, так нельзя вожатому себя вести','залипать':'to be that very sleepy that you easily fall asleep everywhere', 'колоситься':'to walk around without any purpose: чьи это там дети колосятся у столовой?','вставить':'to have a serious talk with some children teaching them how to behave, usually after a serious mischief: пойду вставлю этим оболтусам','отряд':'a group of children given to a couple of campleaders to take care of'}"
   ]
  },
  {
   "cell_type": "code",
   "execution_count": 127,
   "metadata": {},
   "outputs": [
    {
     "data": {
      "text/plain": [
       "10"
      ]
     },
     "execution_count": 127,
     "metadata": {},
     "output_type": "execute_result"
    }
   ],
   "source": [
    "len(camp_leaders_dictionary)"
   ]
  },
  {
   "cell_type": "code",
   "execution_count": 128,
   "metadata": {},
   "outputs": [
    {
     "data": {
      "text/plain": [
       "True"
      ]
     },
     "execution_count": 128,
     "metadata": {},
     "output_type": "execute_result"
    }
   ],
   "source": [
    "'отбить' in camp_leaders_dictionary"
   ]
  },
  {
   "cell_type": "code",
   "execution_count": 129,
   "metadata": {},
   "outputs": [],
   "source": [
    "del(camp_leaders_dictionary['отряд'])"
   ]
  },
  {
   "cell_type": "code",
   "execution_count": 130,
   "metadata": {},
   "outputs": [],
   "source": [
    "camp_leaders_dictionary['свечка']='bedtime storytelling'"
   ]
  },
  {
   "cell_type": "code",
   "execution_count": 131,
   "metadata": {},
   "outputs": [
    {
     "data": {
      "text/plain": [
       "['отбить',\n",
       " 'слить',\n",
       " 'писикаки',\n",
       " 'не але',\n",
       " 'рука',\n",
       " 'косяк',\n",
       " 'залипать',\n",
       " 'колоситься',\n",
       " 'вставить',\n",
       " 'свечка']"
      ]
     },
     "execution_count": 131,
     "metadata": {},
     "output_type": "execute_result"
    }
   ],
   "source": [
    "list(camp_leaders_dictionary.keys())"
   ]
  },
  {
   "cell_type": "code",
   "execution_count": 132,
   "metadata": {},
   "outputs": [
    {
     "data": {
      "text/plain": [
       "['make all the children you are responsible of sleep: я пойду отбивать детей, а ты на планерку; ура, мы всех своих отбили',\n",
       " 'to perform not successfully: это мероприятие мой отряд вообще слили',\n",
       " 'mischievious naughty childern',\n",
       " 'children with very strange behaviour who usually have no friends',\n",
       " 'a word reminding everyone of the sign to stop talking',\n",
       " 'a huge mistake made by someone, among camp leaders it is usually used to evaluate mistakes made by some of them: ну это правда косяк, так нельзя вожатому себя вести',\n",
       " 'to be that very sleepy that you easily fall asleep everywhere',\n",
       " 'to walk around without any purpose: чьи это там дети колосятся у столовой?',\n",
       " 'to have a serious talk with some children teaching them how to behave, usually after a serious mischief: пойду вставлю этим оболтусам',\n",
       " 'bedtime storytelling']"
      ]
     },
     "execution_count": 132,
     "metadata": {},
     "output_type": "execute_result"
    }
   ],
   "source": [
    "list(camp_leaders_dictionary.values())"
   ]
  },
  {
   "cell_type": "code",
   "execution_count": 133,
   "metadata": {},
   "outputs": [
    {
     "data": {
      "text/plain": [
       "[('отбить',\n",
       "  'make all the children you are responsible of sleep: я пойду отбивать детей, а ты на планерку; ура, мы всех своих отбили'),\n",
       " ('слить',\n",
       "  'to perform not successfully: это мероприятие мой отряд вообще слили'),\n",
       " ('писикаки', 'mischievious naughty childern'),\n",
       " ('не але',\n",
       "  'children with very strange behaviour who usually have no friends'),\n",
       " ('рука', 'a word reminding everyone of the sign to stop talking'),\n",
       " ('косяк',\n",
       "  'a huge mistake made by someone, among camp leaders it is usually used to evaluate mistakes made by some of them: ну это правда косяк, так нельзя вожатому себя вести'),\n",
       " ('залипать', 'to be that very sleepy that you easily fall asleep everywhere'),\n",
       " ('колоситься',\n",
       "  'to walk around without any purpose: чьи это там дети колосятся у столовой?'),\n",
       " ('вставить',\n",
       "  'to have a serious talk with some children teaching them how to behave, usually after a serious mischief: пойду вставлю этим оболтусам'),\n",
       " ('свечка', 'bedtime storytelling')]"
      ]
     },
     "execution_count": 133,
     "metadata": {},
     "output_type": "execute_result"
    }
   ],
   "source": [
    "list(camp_leaders_dictionary.items())"
   ]
  },
  {
   "cell_type": "code",
   "execution_count": null,
   "metadata": {},
   "outputs": [],
   "source": []
  },
  {
   "cell_type": "code",
   "execution_count": null,
   "metadata": {},
   "outputs": [],
   "source": []
  },
  {
   "cell_type": "code",
   "execution_count": null,
   "metadata": {},
   "outputs": [],
   "source": []
  },
  {
   "cell_type": "code",
   "execution_count": null,
   "metadata": {},
   "outputs": [],
   "source": []
  },
  {
   "cell_type": "code",
   "execution_count": null,
   "metadata": {},
   "outputs": [],
   "source": []
  }
 ],
 "metadata": {
  "kernelspec": {
   "display_name": "Python 3",
   "language": "python",
   "name": "python3"
  },
  "language_info": {
   "codemirror_mode": {
    "name": "ipython",
    "version": 3
   },
   "file_extension": ".py",
   "mimetype": "text/x-python",
   "name": "python",
   "nbconvert_exporter": "python",
   "pygments_lexer": "ipython3",
   "version": "3.7.3"
  }
 },
 "nbformat": 4,
 "nbformat_minor": 2
}
