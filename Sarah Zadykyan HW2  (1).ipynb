{
 "cells": [
  {
   "cell_type": "markdown",
   "metadata": {},
   "source": [
    "1"
   ]
  },
  {
   "cell_type": "code",
   "execution_count": 45,
   "metadata": {},
   "outputs": [
    {
     "name": "stdout",
     "output_type": "stream",
     "text": [
      "p a t\n",
      "p a k\n",
      "p a b\n",
      "p a d\n",
      "p a g\n",
      "t a p\n",
      "t a k\n",
      "t a b\n",
      "t a d\n",
      "t a g\n",
      "k a p\n",
      "k a t\n",
      "k a b\n",
      "k a d\n",
      "k a g\n",
      "b a p\n",
      "b a t\n",
      "b a k\n",
      "b a d\n",
      "b a g\n",
      "d a p\n",
      "d a t\n",
      "d a k\n",
      "d a b\n",
      "d a g\n",
      "g a p\n",
      "g a t\n",
      "g a k\n",
      "g a b\n",
      "g a d\n",
      "p e t\n",
      "p e k\n",
      "p e b\n",
      "p e d\n",
      "p e g\n",
      "t e p\n",
      "t e k\n",
      "t e b\n",
      "t e d\n",
      "t e g\n",
      "k e p\n",
      "k e t\n",
      "k e b\n",
      "k e d\n",
      "k e g\n",
      "b e p\n",
      "b e t\n",
      "b e k\n",
      "b e d\n",
      "b e g\n",
      "d e p\n",
      "d e t\n",
      "d e k\n",
      "d e b\n",
      "d e g\n",
      "g e p\n",
      "g e t\n",
      "g e k\n",
      "g e b\n",
      "g e d\n",
      "p i t\n",
      "p i k\n",
      "p i b\n",
      "p i d\n",
      "p i g\n",
      "t i p\n",
      "t i k\n",
      "t i b\n",
      "t i d\n",
      "t i g\n",
      "k i p\n",
      "k i t\n",
      "k i b\n",
      "k i d\n",
      "k i g\n",
      "b i p\n",
      "b i t\n",
      "b i k\n",
      "b i d\n",
      "b i g\n",
      "d i p\n",
      "d i t\n",
      "d i k\n",
      "d i b\n",
      "d i g\n",
      "g i p\n",
      "g i t\n",
      "g i k\n",
      "g i b\n",
      "g i d\n",
      "p o t\n",
      "p o k\n",
      "p o b\n",
      "p o d\n",
      "p o g\n",
      "t o p\n",
      "t o k\n",
      "t o b\n",
      "t o d\n",
      "t o g\n",
      "k o p\n",
      "k o t\n",
      "k o b\n",
      "k o d\n",
      "k o g\n",
      "b o p\n",
      "b o t\n",
      "b o k\n",
      "b o d\n",
      "b o g\n",
      "d o p\n",
      "d o t\n",
      "d o k\n",
      "d o b\n",
      "d o g\n",
      "g o p\n",
      "g o t\n",
      "g o k\n",
      "g o b\n",
      "g o d\n",
      "p u t\n",
      "p u k\n",
      "p u b\n",
      "p u d\n",
      "p u g\n",
      "t u p\n",
      "t u k\n",
      "t u b\n",
      "t u d\n",
      "t u g\n",
      "k u p\n",
      "k u t\n",
      "k u b\n",
      "k u d\n",
      "k u g\n",
      "b u p\n",
      "b u t\n",
      "b u k\n",
      "b u d\n",
      "b u g\n",
      "d u p\n",
      "d u t\n",
      "d u k\n",
      "d u b\n",
      "d u g\n",
      "g u p\n",
      "g u t\n",
      "g u k\n",
      "g u b\n",
      "g u d\n"
     ]
    }
   ],
   "source": [
    "vowels='aeiou'\n",
    "consonants='ptkbdg'\n",
    "for v in vowels:\n",
    "    for c in consonants:\n",
    "        for o in consonants:\n",
    "            if c == o : continue\n",
    "            print(c,v,o)\n"
   ]
  },
  {
   "cell_type": "markdown",
   "metadata": {},
   "source": [
    "2"
   ]
  },
  {
   "cell_type": "code",
   "execution_count": 46,
   "metadata": {},
   "outputs": [
    {
     "name": "stdout",
     "output_type": "stream",
     "text": [
      " An Ant or a Table\n",
      " The Cat in the Hat\n"
     ]
    }
   ],
   "source": [
    "def proper_title_case(s): \n",
    "    nocaps = [\"the\", \"in\", \"on\", \"a\", \"an\", \"or\"] # This needs to be extended.\n",
    "    \n",
    "    result = \"\"\n",
    "    text = s.lower()\n",
    "    word_by_word = text.split(' ')\n",
    "    \n",
    "    flag = 1\n",
    "    for elMass in word_by_word:\n",
    "        if elMass in nocaps and flag == 0:\n",
    "            result = result + \" \" + elMass\n",
    "        else :\n",
    "            Word = elMass.capitalize()\n",
    "            result = result + ' ' + Word\n",
    "        flag = 0\n",
    "        \n",
    "    return result\n",
    "\n",
    "print(proper_title_case('An ant or a table'))#to test your function\n",
    "print(proper_title_case('The Cat In the Hat'))#to test your function"
   ]
  },
  {
   "cell_type": "markdown",
   "metadata": {},
   "source": [
    "3"
   ]
  },
  {
   "cell_type": "code",
   "execution_count": 47,
   "metadata": {
    "scrolled": true
   },
   "outputs": [
    {
     "name": "stdout",
     "output_type": "stream",
     "text": [
      "2.3666666666666667\n"
     ]
    }
   ],
   "source": [
    "def mean(vals):\n",
    "    x = float(sum(vals)/len(vals))\n",
    "    return x \n",
    "\n",
    "print(mean([1,5,1.1])) #to test your function\n",
    "\n"
   ]
  },
  {
   "cell_type": "markdown",
   "metadata": {},
   "source": [
    "4 формула была взята с русской википедии\n",
    "https://ru.wikipedia.org/wiki/%D0%A1%D1%80%D0%B5%D0%B4%D0%BD%D0%B5%D0%BA%D0%B2%D0%B0%D0%B4%D1%80%D0%B0%D1%82%D0%B8%D1%87%D0%B5%D1%81%D0%BA%D0%BE%D0%B5_%D0%BE%D1%82%D0%BA%D0%BB%D0%BE%D0%BD%D0%B5%D0%BD%D0%B8%D0%B5\n",
    "\n"
   ]
  },
  {
   "cell_type": "code",
   "execution_count": 48,
   "metadata": {},
   "outputs": [
    {
     "name": "stdout",
     "output_type": "stream",
     "text": [
      "1.0\n"
     ]
    }
   ],
   "source": [
    "import math\n",
    "\n",
    "def sd(vals) :\n",
    "    Ispiska = float(sum(vals)/len(vals))\n",
    "    total_sum = 0\n",
    "    for Each_Element in vals:\n",
    "        x = (Each_Element - Ispiska)**2\n",
    "        total_sum = total_sum + x\n",
    "    result = math.sqrt(total_sum/(len(vals)-1))\n",
    " \n",
    "    return result\n",
    "\n",
    "print(sd([0,1,2]))"
   ]
  },
  {
   "cell_type": "markdown",
   "metadata": {},
   "source": [
    "5.1"
   ]
  },
  {
   "cell_type": "code",
   "execution_count": 49,
   "metadata": {},
   "outputs": [
    {
     "name": "stdout",
     "output_type": "stream",
     "text": [
      "[[1, 74.37000326528938, 'Psychologist'], [2, 67.49686206937491, 'Psychologist'], [3, 74.92356434760966, 'Psychologist'], [4, 64.62372198999978, 'Psychologist'], [5, 67.76787900026083, 'Linguist'], [6, 61.50397707923559, 'Psychologist'], [7, 62.73680961908566, 'Psychologist'], [8, 68.60803984763902, 'Linguist'], [9, 70.16090500135535, 'Psychologist'], [10, 76.81144438287173, 'Linguist']]\n"
     ]
    }
   ],
   "source": [
    "myspreadsheet =\"\"\"Subject,Height,Occupation\n",
    "1,74.37000326528938,Psychologist\n",
    "2,67.49686206937491,Psychologist\n",
    "3,74.92356434760966,Psychologist\n",
    "4,64.62372198999978,Psychologist\n",
    "5,67.76787900026083,Linguist\n",
    "6,61.50397707923559,Psychologist\n",
    "7,62.73680961908566,Psychologist\n",
    "8,68.60803984763902,Linguist\n",
    "9,70.16090500135535,Psychologist\n",
    "10,76.81144438287173,Linguist\"\"\"\n",
    "\n",
    "def csv_parser(s):\n",
    "    result = []\n",
    "    lines = s.split()\n",
    "    lines.pop(0)\n",
    "    for Each_Line in lines :\n",
    "        Temp_Line = Each_Line.split(',')\n",
    "        res_line = [int(Temp_Line[0]), float(Temp_Line[1]), Temp_Line[2]]\n",
    "        result.append(res_line)\n",
    "  \n",
    "    return result\n",
    "\n",
    "print(csv_parser(myspreadsheet))#to test your function\n"
   ]
  },
  {
   "cell_type": "markdown",
   "metadata": {},
   "source": [
    "5.2"
   ]
  },
  {
   "cell_type": "code",
   "execution_count": 50,
   "metadata": {},
   "outputs": [
    {
     "name": "stdout",
     "output_type": "stream",
     "text": [
      "68.9003206602722\n"
     ]
    }
   ],
   "source": [
    "def mean_height(data):\n",
    "    table = csv_parser(data)\n",
    "    List_height = []\n",
    "    for Each_line in table :\n",
    "        List_height.append(Each_line[1])\n",
    "\n",
    "    return mean(List_height)\n",
    "# mean() - это в 3-ей задачке было сделано, здесь просто использовали\n",
    "print(mean_height(myspreadsheet))#to test your function"
   ]
  },
  {
   "cell_type": "markdown",
   "metadata": {},
   "source": [
    "5.3"
   ]
  },
  {
   "cell_type": "code",
   "execution_count": 51,
   "metadata": {},
   "outputs": [
    {
     "name": "stdout",
     "output_type": "stream",
     "text": [
      "{'Psychologist': 7, 'Linguist': 3}\n"
     ]
    }
   ],
   "source": [
    "def occupation_distribution(data):\n",
    "    table = csv_parser(data)\n",
    "    Dict = {}\n",
    "    for Each_line in table :\n",
    "        if Each_line[2] in Dict:\n",
    "\n",
    "            Dict[Each_line[2]] = Dict[Each_line[2]] + 1\n",
    "\n",
    "        else:\n",
    "            Dict[Each_line[2]] = 1\n",
    "                \n",
    "\n",
    "    return Dict \n",
    "\n",
    "print(occupation_distribution(myspreadsheet))#to test your function"
   ]
  },
  {
   "cell_type": "code",
   "execution_count": null,
   "metadata": {},
   "outputs": [],
   "source": []
  }
 ],
 "metadata": {
  "kernelspec": {
   "display_name": "Python 3",
   "language": "python",
   "name": "python3"
  },
  "language_info": {
   "codemirror_mode": {
    "name": "ipython",
    "version": 3
   },
   "file_extension": ".py",
   "mimetype": "text/x-python",
   "name": "python",
   "nbconvert_exporter": "python",
   "pygments_lexer": "ipython3",
   "version": "3.7.3"
  }
 },
 "nbformat": 4,
 "nbformat_minor": 2
}
